{
  "cells": [
    {
      "cell_type": "markdown",
      "metadata": {
        "id": "jx-bfDkxF0Xu"
      },
      "source": [
        "[![image](https://colab.research.google.com/assets/colab-badge.svg)](https://colab.research.google.com/github/giswqs/geog-312/blob/master/labs/lab_06.ipynb)\n",
        "[![image](https://binder.pangeo.io/badge_logo.svg)](https://gishub.org/geog312-pangeo)\n",
        "\n",
        "**Firstname Lastname**"
      ]
    },
    {
      "cell_type": "code",
      "execution_count": null,
      "metadata": {
        "id": "eUkuEwc9F0YL"
      },
      "outputs": [],
      "source": [
        "from datetime import datetime\n",
        "\n",
        "now = datetime.now()\n",
        "print(f\"Submitted time: {now}\")"
      ]
    },
    {
      "cell_type": "markdown",
      "metadata": {
        "id": "wNRPvKekF0YM"
      },
      "source": [
        "## Question 1\n",
        "**Message:** Write a function called `display_message()` that prints one sentence telling everyone what you are learning about in this chapter. Call the function, and make sure the message displays correctly."
      ]
    },
    {
      "cell_type": "code",
      "execution_count": 1,
      "metadata": {
        "id": "fHa7xIaSF0YM",
        "colab": {
          "base_uri": "https://localhost:8080/"
        },
        "outputId": "78e2ab8a-02f6-4429-af4c-02a0a8359483"
      },
      "outputs": [
        {
          "output_type": "stream",
          "name": "stdout",
          "text": [
            "I'm learning how to use functions.\n"
          ]
        }
      ],
      "source": [
        "def display_message():\n",
        "    text = \"I'm learning how to use functions.\"\n",
        "    print(text)\n",
        "\n",
        "display_message()"
      ]
    },
    {
      "cell_type": "markdown",
      "metadata": {
        "id": "lzF9PDeoF0YM"
      },
      "source": [
        "## Question 2\n",
        "**Favorite Book:** Write a function called `favorite_book()` that accepts one parameter, title. The function should print a message, such as `One of my favorite books is Alice in Wonderland`. Call the function, making sure to include a book title as an argument in the function call."
      ]
    },
    {
      "cell_type": "code",
      "execution_count": 2,
      "metadata": {
        "id": "HbT18YEfF0YM",
        "colab": {
          "base_uri": "https://localhost:8080/"
        },
        "outputId": "c34d5038-c09d-461b-9e8e-2ab604b18515"
      },
      "outputs": [
        {
          "output_type": "stream",
          "name": "stdout",
          "text": [
            "One of my favorite boooks is The Hunger Games.\n"
          ]
        }
      ],
      "source": [
        "def favorite_book(title):\n",
        "    print(f\"One of my favorite boooks is {title}.\")\n",
        "\n",
        "favorite_book('The Hunger Games')"
      ]
    },
    {
      "cell_type": "markdown",
      "metadata": {
        "id": "p4KceDAtF0YM"
      },
      "source": [
        "## Question 3\n",
        "**T-Shirt:** Write a function called `make_shirt()` that accepts a size and the text of a message that should be printed on the shirt. The function should print a sentence summarizing the size of the shirt and the message printed on it.\n",
        "\n",
        "Call the function once using positional arguments to make a shirt. Call the function a second time using keyword arguments."
      ]
    },
    {
      "cell_type": "code",
      "execution_count": 3,
      "metadata": {
        "id": "vQim_MrUF0YM",
        "colab": {
          "base_uri": "https://localhost:8080/"
        },
        "outputId": "ce376fa6-8260-42d5-d18e-b2281256f253"
      },
      "outputs": [
        {
          "output_type": "stream",
          "name": "stdout",
          "text": [
            "Size is medium.\n",
            "Text is \"LOL\"\n",
            "Size is extra large.\n",
            "Text is \"hello\"\n"
          ]
        }
      ],
      "source": [
        "def make_shirt(size, message):\n",
        "    print(f\"Size is {size}.\")\n",
        "    print(f'Text is \"{message}\"')\n",
        "\n",
        "make_shirt('medium', 'LOL')\n",
        "make_shirt(message=\"hello\", size='extra large')"
      ]
    },
    {
      "cell_type": "markdown",
      "metadata": {
        "id": "0gISil3KF0YN"
      },
      "source": [
        "## Question 4\n",
        "**Large Shirts:** Modify the `make_shirt()` function so that shirts are large by default with a message that reads *I love Python*. Make a large shirt and a medium shirt with the default message, and a shirt of any size with a different message."
      ]
    },
    {
      "cell_type": "code",
      "execution_count": 5,
      "metadata": {
        "id": "jhM8O3ikF0YN",
        "colab": {
          "base_uri": "https://localhost:8080/"
        },
        "outputId": "9ef51061-5269-4a4b-cc92-b743be219bdf"
      },
      "outputs": [
        {
          "output_type": "stream",
          "name": "stdout",
          "text": [
            "Size is large.\n",
            "Text is \"I love Python\"\n",
            "Size is medium.\n",
            "Text is \"I love Python\"\n",
            "Size is extra small.\n",
            "Text is \"different message\"\n"
          ]
        }
      ],
      "source": [
        "def make_shirt(size='large', message='I love Python'):\n",
        "    print(f\"Size is {size}.\")\n",
        "    print(f'Text is \"{message}\"')\n",
        "\n",
        "make_shirt()\n",
        "\n",
        "make_shirt(size='medium')\n",
        "make_shirt('extra small', 'different message')"
      ]
    },
    {
      "cell_type": "markdown",
      "metadata": {
        "id": "J_5XkO8nF0YN"
      },
      "source": [
        "## Question 5\n",
        "**Cities:** Write a function called `describe_city()` that accepts the name of a city and its country. The function should print a simple sentence, such as `Reykjavik is in Iceland`. Give the parameter for the country a default value. Call your function for three different cities, at least one of which is not in the default country."
      ]
    },
    {
      "cell_type": "code",
      "execution_count": 6,
      "metadata": {
        "id": "M-gi4tRXF0YN",
        "colab": {
          "base_uri": "https://localhost:8080/"
        },
        "outputId": "90bceccc-5fc5-4020-c70a-92ce7750a5c6"
      },
      "outputs": [
        {
          "output_type": "stream",
          "name": "stdout",
          "text": [
            "LA is in usa.\n",
            "New York is in usa.\n",
            "Buenos Aries is in Argentina.\n"
          ]
        }
      ],
      "source": [
        "def describe_city(city, country='usa'):\n",
        "    text = f\"{city} is in {country}.\"\n",
        "    print(text)\n",
        "\n",
        "describe_city('LA')\n",
        "describe_city('New York')\n",
        "describe_city('Buenos Aries', 'Argentina')"
      ]
    },
    {
      "cell_type": "markdown",
      "metadata": {
        "id": "BwTk4EMdF0YN"
      },
      "source": [
        "## Question 6\n",
        "**City Names:** Write a function called `city_country()` that takes in the name of a city and its country. The function should return a string formatted like this:\n",
        "```\n",
        "Santiago, Chile\n",
        "```\n",
        "Call your function with at least three city-country pairs, and print the values that are returned."
      ]
    },
    {
      "cell_type": "code",
      "execution_count": 7,
      "metadata": {
        "id": "rFoNpUO4F0YN",
        "colab": {
          "base_uri": "https://localhost:8080/"
        },
        "outputId": "c0e3c914-8150-4e06-9299-b6028bc504a0"
      },
      "outputs": [
        {
          "output_type": "stream",
          "name": "stdout",
          "text": [
            "LA, USA\n",
            "New York, US\n",
            "Berlin, Germany\n"
          ]
        }
      ],
      "source": [
        "def city_country(city, country):\n",
        "    return f\"{city}, {country}\"\n",
        "\n",
        "name1 = city_country('LA', 'USA')\n",
        "print(name1)\n",
        "name2 = city_country('New York', 'US')\n",
        "print(name2)\n",
        "name3 = city_country('Berlin', 'Germany')\n",
        "print(name3)"
      ]
    },
    {
      "cell_type": "markdown",
      "metadata": {
        "id": "jb7BpvHxF0YN"
      },
      "source": [
        "## Question 7\n",
        "**Album:** Write a function called `make_album()` that builds a dictionary describing a music album. The function should take in an artist name and an album title, and it should return a dictionary containing these two pieces of information. Use the function to make three dictionaries representing different albums. Print each return value to show that the dictionaries are storing the album information correctly.\n",
        "\n",
        "Use None to add an optional parameter to make_album() that allows you to store the number of songs on an album. If the calling line includes a value for the number of songs, add that value to the album’s dictionary. Make at least one new function call that includes the number of songs on an album."
      ]
    },
    {
      "cell_type": "code",
      "execution_count": 8,
      "metadata": {
        "id": "vhkUtUiNF0YO",
        "colab": {
          "base_uri": "https://localhost:8080/"
        },
        "outputId": "17b93174-3291-4a9e-bcdd-3141b706e5ee"
      },
      "outputs": [
        {
          "output_type": "stream",
          "name": "stdout",
          "text": [
            "{'artist': 'Taylor Swift', 'album_title': 'Speak Now'}\n",
            "{'artist': 'Taylor Swift', 'album_title': 'Red'}\n",
            "{'artist': 'Taylor Swift', 'album_title': 'Folklore'}\n",
            "{'artist': 'Taylor Swift', 'album_title': 'Lover', 'songs': 13}\n"
          ]
        }
      ],
      "source": [
        "def make_album(artist, album_title, songs=0):\n",
        "    dictionary = {\n",
        "        'artist': artist.title(),\n",
        "        'album_title': album_title.title(),\n",
        "        }\n",
        "    if songs:\n",
        "        dictionary['songs'] = songs\n",
        "    return dictionary\n",
        "\n",
        "album1 = make_album('Taylor Swift', 'Speak Now')\n",
        "print(album1)\n",
        "album2 = make_album('Taylor Swift', 'Red')\n",
        "print(album2)\n",
        "album3 = make_album('Taylor Swift', 'Folklore')\n",
        "print(album3)\n",
        "album4 = make_album('Taylor Swift', 'Lover', songs=13)\n",
        "print(album4)"
      ]
    },
    {
      "cell_type": "markdown",
      "metadata": {
        "id": "95XSRl3LF0YO"
      },
      "source": [
        "## Question 8\n",
        "**User Albums:** Start with your program from Question 7. Write a `while` loop that allows users to enter an album’s artist and title. Once you have that information, call `make_album()` with the user’s input and print the dictionary that’s created. Be sure to include a quit value in the `while` loop."
      ]
    },
    {
      "cell_type": "code",
      "execution_count": 11,
      "metadata": {
        "id": "D7_r7LwbF0YO",
        "colab": {
          "base_uri": "https://localhost:8080/"
        },
        "outputId": "2e8002e5-7970-4ce9-a980-aef830118f95"
      },
      "outputs": [
        {
          "name": "stdout",
          "output_type": "stream",
          "text": [
            "say quit to end. Title name:f\n",
            "say quit to end. Album title:f\n",
            "{'artist': 'F', 'album_title': 'F'}\n",
            "say quit to end. Title name:quit\n"
          ]
        }
      ],
      "source": [
        "def make_album(artist, album_title, songs=0):\n",
        "    dictionary = {\n",
        "        'artist': artist.title(),\n",
        "        'album_title': album_title.title(),\n",
        "        }\n",
        "    if songs:\n",
        "        dictionary['songs'] = songs\n",
        "    return dictionary\n",
        "\n",
        "while True:\n",
        "  user_imput = input(\"say quit to end. Title name:\")\n",
        "  if user_imput == \"quit\":\n",
        "      break\n",
        "  user_imput2 = input(\"say quit to end. Album title:\")\n",
        "  if user_imput2 == \"quit\":\n",
        "      break\n",
        "  user_album = make_album(user_imput, user_imput2)\n",
        "  print(user_album)\n"
      ]
    },
    {
      "cell_type": "code",
      "source": [],
      "metadata": {
        "id": "q2UWxfFBMeVA"
      },
      "execution_count": null,
      "outputs": []
    },
    {
      "cell_type": "markdown",
      "metadata": {
        "id": "P4TYMAYlF0YO"
      },
      "source": [
        "## Question 9\n",
        "**Messages:** Make a list containing a series of short text messages. Pass the list to a function called `show_messages()`, which prints each text message."
      ]
    },
    {
      "cell_type": "code",
      "execution_count": 12,
      "metadata": {
        "id": "TlMe2npcF0YO",
        "colab": {
          "base_uri": "https://localhost:8080/"
        },
        "outputId": "6b9d7f4c-4e98-43c2-f57f-d89018294881"
      },
      "outputs": [
        {
          "output_type": "stream",
          "name": "stdout",
          "text": [
            "hey girl\n",
            "love u\n",
            "hellooo\n"
          ]
        }
      ],
      "source": [
        "def show_messages(messages):\n",
        "    for x in messages:\n",
        "        print(x)\n",
        "\n",
        "messages = [\"hey girl\", \"love u\", \"hellooo\"]\n",
        "show_messages(messages)"
      ]
    },
    {
      "cell_type": "markdown",
      "metadata": {
        "id": "-pomdwbuF0YO"
      },
      "source": [
        "## Question 10\n",
        "**Sending Messages:** Start with a copy of your program from Question 9. Write a function called `send_messages()` that prints each text message and moves each message to a new list called `sent_messages` as it’s printed. After calling the function, print both of your lists to make sure the messages were moved correctly."
      ]
    },
    {
      "cell_type": "code",
      "execution_count": 16,
      "metadata": {
        "id": "QgREvZUqF0YO",
        "colab": {
          "base_uri": "https://localhost:8080/"
        },
        "outputId": "99b8a2be-2b8b-4adb-b313-faa7c83f8a6d"
      },
      "outputs": [
        {
          "output_type": "stream",
          "name": "stdout",
          "text": [
            "hey girl\n",
            "love u\n",
            "hellooo\n",
            "hellooo\n",
            "love u\n",
            "hey girl\n",
            "[]\n",
            "['hellooo', 'love u', 'hey girl']\n"
          ]
        }
      ],
      "source": [
        "sent=[]\n",
        "\n",
        "def show_messages(m):\n",
        "    for x in m:\n",
        "        print(x)\n",
        "\n",
        "def send_messages(m, sent):\n",
        "  while m:\n",
        "        sending = m.pop()\n",
        "        print(sending)\n",
        "        sent.append(sending)\n",
        "\n",
        "m = [\"hey girl\", \"love u\", \"hellooo\"]\n",
        "show_messages(m)\n",
        "send_messages(m,sent)\n",
        "print(m)\n",
        "print(sent)"
      ]
    },
    {
      "cell_type": "markdown",
      "metadata": {
        "id": "QI9fqElBF0YO"
      },
      "source": [
        "## Question 11\n",
        "**Archived Messages:** Start with your work from Question 10. Call the function `send_messages()` with a copy of the list of messages. After calling the function, print both of your lists to show that the original list has retained its messages."
      ]
    },
    {
      "cell_type": "code",
      "execution_count": null,
      "metadata": {
        "id": "UGvloGwZF0YO"
      },
      "outputs": [],
      "source": [
        "sent=[]\n",
        "\n",
        "def show_messages(m):\n",
        "    for x in m:\n",
        "        print(x)\n",
        "\n",
        "def send_messages(m, sent):\n",
        "  while m:\n",
        "        sending = m.pop()\n",
        "        print(sending)\n",
        "        sent.append(sending)\n",
        "\n",
        "m = [\"hey girl\", \"love u\", \"hellooo\"]\n",
        "show_messages(m)\n",
        "send_messages(m,sent)\n",
        "print(m)\n",
        "print(sent)"
      ]
    },
    {
      "cell_type": "markdown",
      "metadata": {
        "id": "CakQU0KOF0YO"
      },
      "source": [
        "## Question 12\n",
        "**Sandwiches:** Write a function that accepts a list of items a person wants on a sandwich. The function should have one parameter that collects as many items as the function call provides, and it should print a summary of the sandwich that’s being ordered. Call the function three times, using a different number of arguments each time."
      ]
    },
    {
      "cell_type": "code",
      "execution_count": 17,
      "metadata": {
        "id": "4iYKFLjTF0YO",
        "colab": {
          "base_uri": "https://localhost:8080/"
        },
        "outputId": "e7c4083c-eea7-467c-824e-802738076ed7"
      },
      "outputs": [
        {
          "output_type": "stream",
          "name": "stdout",
          "text": [
            "('bacon', 'lettuce', 'toast')\n",
            "('turkey', 'mozzorella', 'cheddar', 'mayo')\n",
            "('ham', 'cheese')\n"
          ]
        }
      ],
      "source": [
        "def sandwich(*order):\n",
        "    print(order)\n",
        "\n",
        "sandwich('bacon', 'lettuce', 'toast')\n",
        "sandwich('turkey', 'mozzorella', 'cheddar', 'mayo')\n",
        "sandwich('ham', 'cheese')"
      ]
    },
    {
      "cell_type": "markdown",
      "metadata": {
        "id": "E456FJ_4F0YP"
      },
      "source": [
        "## Question 13\n",
        "**Cars:** Write a function that stores information about a car in a dictionary. The function should always receive a manufacturer and a model name. It should then accept an arbitrary number of keyword arguments. Call the function with the required information and two other name-value pairs, such as a color or an optional feature. Your function should work for a call like this one:\n",
        "```\n",
        "car = make_car('subaru', 'outback', color='blue', tow_package=True)\n",
        "```\n",
        "Print the dictionary that’s returned to make sure all the information was stored correctly."
      ]
    },
    {
      "cell_type": "code",
      "execution_count": 19,
      "metadata": {
        "id": "N4MIfCY1F0YP",
        "colab": {
          "base_uri": "https://localhost:8080/"
        },
        "outputId": "09406fb8-b04c-425c-a7d0-49106b06360d"
      },
      "outputs": [
        {
          "output_type": "stream",
          "name": "stdout",
          "text": [
            "{'manufacturer': 'Nissan', 'model_name': 'Kick', 'color': 'blue', 'tow_package': True}\n",
            "{'manufacturer': 'Toyota', 'model_name': 'Highlander', 'color': 'red', 'tow_package': True}\n"
          ]
        }
      ],
      "source": [
        "def make_car(manufacturer, model_name, **extra):\n",
        "    dictionary = {\n",
        "        'manufacturer': manufacturer.title(),\n",
        "        'model_name': model_name.title(),\n",
        "        }\n",
        "    for xtra, value in extra.items():\n",
        "        dictionary[xtra] = value\n",
        "    return dictionary\n",
        "\n",
        "car1 = make_car('Nissan', 'Kick', color='blue', tow_package=True)\n",
        "print(car1)\n",
        "\n",
        "car2 = make_car('Toyota', 'Highlander', color='red', tow_package=True)\n",
        "print(car2)"
      ]
    },
    {
      "cell_type": "markdown",
      "metadata": {
        "id": "JUWETydqF0YP"
      },
      "source": [
        "## Question 14\n",
        "**Restaurant:** Make a class called `Restaurant`. The `__init__()` method for `Restaurant` should store two attributes: a `restaurant_name` and a `cuisine_type`. Make a method called `describe_restaurant()` that prints these two pieces of information, and a method called `open_restaurant()` that prints a message indicating that the restaurant is open.\n",
        "\n",
        "Make an instance called `restaurant` from your class. Print the two attributes individually, and then call both methods."
      ]
    },
    {
      "cell_type": "code",
      "execution_count": 25,
      "metadata": {
        "id": "C1OMlLVJF0YP",
        "colab": {
          "base_uri": "https://localhost:8080/"
        },
        "outputId": "fdc9ea35-5082-423f-c382-2900d462b556"
      },
      "outputs": [
        {
          "output_type": "stream",
          "name": "stdout",
          "text": [
            "Silvias\n",
            "tacos\n",
            "name is Silvias and serves tacos.\n",
            "Silvias is open\n"
          ]
        }
      ],
      "source": [
        "\n",
        "class Restaurant:\n",
        "    def __init__(self, name, cuisine_type):\n",
        "        self.name = name.title()\n",
        "        self.cuisine_type = cuisine_type\n",
        "    def describe_restaurant(self):\n",
        "        print(f\"name is {self.name} and serves {self.cuisine_type}.\")\n",
        "    def open_restaurant(self):\n",
        "        print(f\"{self.name} is open\")\n",
        "\n",
        "x = Restaurant('Silvias', 'tacos')\n",
        "print(x.name)\n",
        "print(x.cuisine_type)\n",
        "x.describe_restaurant()\n",
        "x.open_restaurant()"
      ]
    },
    {
      "cell_type": "markdown",
      "metadata": {
        "id": "voLL5mgMF0YP"
      },
      "source": [
        "## Question 15\n",
        "**Three Restaurants:** Start with your class from Question 14. Create three different instances from the class, and call `describe_restaurant()` for each instance."
      ]
    },
    {
      "cell_type": "code",
      "execution_count": 26,
      "metadata": {
        "id": "FRNtVA2qF0YP",
        "colab": {
          "base_uri": "https://localhost:8080/"
        },
        "outputId": "74d1cdda-0c61-428c-ba1d-92f5571cfadf"
      },
      "outputs": [
        {
          "output_type": "stream",
          "name": "stdout",
          "text": [
            "name is Silvias and serves tacos.\n",
            "name is Tommys and serves sandwhich.\n",
            "name is Chewies and serves pizza.\n"
          ]
        }
      ],
      "source": [
        "class Restaurant:\n",
        "    def __init__(self, name, cuisine_type):\n",
        "        self.name = name.title()\n",
        "        self.cuisine_type = cuisine_type\n",
        "    def describe_restaurant(self):\n",
        "        print(f\"name is {self.name} and serves {self.cuisine_type}.\")\n",
        "    def open_restaurant(self):\n",
        "        print(f\"{self.name} is open\")\n",
        "\n",
        "x = Restaurant('Silvias', 'tacos')\n",
        "x.describe_restaurant()\n",
        "\n",
        "y = Restaurant('Tommys', 'sandwhich')\n",
        "y.describe_restaurant()\n",
        "\n",
        "q = Restaurant('Chewies', 'pizza')\n",
        "q.describe_restaurant()"
      ]
    },
    {
      "cell_type": "markdown",
      "metadata": {
        "id": "IahmXIJ_F0YP"
      },
      "source": [
        "## Question 16\n",
        "**Users:** Make a class called `User`. Create two attributes called `first_name` and `last_name`, and then create several other attributes that are typically stored in a user profile. Make a method called `describe_user()` that prints a summary of the user’s information. Make another method called `greet_user()` that prints a personalized greeting to the user.\n",
        "\n",
        "Create several instances representing different users, and call both methods for each user."
      ]
    },
    {
      "cell_type": "code",
      "execution_count": 28,
      "metadata": {
        "id": "qP5lhrcoF0YQ",
        "colab": {
          "base_uri": "https://localhost:8080/"
        },
        "outputId": "96ceb459-6b0b-45b4-8da6-08eca42fd07e"
      },
      "outputs": [
        {
          "output_type": "stream",
          "name": "stdout",
          "text": [
            "\n",
            "Ellie Bern\n",
            "  birthday: May\n",
            "  job: Cashier\n",
            "  city: Knox\n",
            "Hello Ellie!\n",
            "\n",
            "Lilly Rose\n",
            "  birthday: June\n",
            "  job: Florist\n",
            "  city: Nash\n",
            "Hello Lilly!\n"
          ]
        }
      ],
      "source": [
        "class User:\n",
        "    def __init__(self, first_name, last_name, birthday, job, city):\n",
        "        self.first_name = first_name\n",
        "        self.last_name = last_name\n",
        "        self.birthday = birthday\n",
        "        self.job = job\n",
        "        self.city = city\n",
        "    def describe_user(self):\n",
        "        print(f\"\\n{self.first_name} {self.last_name}\")\n",
        "        print(f\"  birthday: {self.birthday}\")\n",
        "        print(f\"  job: {self.job}\")\n",
        "        print(f\"  city: {self.city}\")\n",
        "    def greet_user(self):\n",
        "        print(f\"Hello {self.first_name}!\")\n",
        "\n",
        "one = User('Ellie', 'Bern', 'May', 'Cashier', 'Knox')\n",
        "one.describe_user()\n",
        "one.greet_user()\n",
        "\n",
        "two = User('Lilly', 'Rose', 'June', 'Florist', 'Nash')\n",
        "two.describe_user()\n",
        "two.greet_user()"
      ]
    },
    {
      "cell_type": "markdown",
      "metadata": {
        "id": "TBr2eDhEF0YQ"
      },
      "source": [
        "## Question 17\n",
        "**Number Served:** Start with your program from Question 14. Add an attribute called `number_served` with a default value of 0. Create an instance called `restaurant` from this class. Print the number of customers the restaurant has served, and then change this value and print it again.\n",
        "\n",
        "Add a method called `set_number_served()` that lets you set the number of customers that have been served. Call this method with a new number and print the value again.\n",
        "\n",
        "Add a method called `increment_number_served()` that lets you increment the number of customers who’ve been served.\n",
        "\n",
        "Call this method with any number you like that could represent how many customers were served in, say, a day of business."
      ]
    },
    {
      "cell_type": "code",
      "execution_count": 30,
      "metadata": {
        "id": "BBnyY0HcF0YQ",
        "colab": {
          "base_uri": "https://localhost:8080/"
        },
        "outputId": "e3a66b62-bca0-4e7b-b486-4106ec03ebde"
      },
      "outputs": [
        {
          "output_type": "stream",
          "name": "stdout",
          "text": [
            "name is Silivias and serves tacos.\n",
            "Number served: 0\n",
            "Number served: 101\n",
            "Number served: 628\n",
            "Number served: 1155\n"
          ]
        }
      ],
      "source": [
        "class Restaurant:\n",
        "    def __init__(self, name, cuisine_type):\n",
        "        self.name = name.title()\n",
        "        self.cuisine_type = cuisine_type\n",
        "        self.number_served = 0\n",
        "    def describe_restaurant(self):\n",
        "        print(f\"name is {self.name} and serves {self.cuisine_type}.\")\n",
        "    def open_restaurant(self):\n",
        "        print(f\"{self.name} is open\")\n",
        "    def set_number_served(self, number_served):\n",
        "        self.number_served = number_served\n",
        "    def increment_number_served(self, add_served):\n",
        "        self.number_served += add_served\n",
        "\n",
        "restaurant = Restaurant('Silivias', 'tacos')\n",
        "restaurant.describe_restaurant()\n",
        "print(f\"Number served: {restaurant.number_served}\")\n",
        "restaurant.number_served = 101\n",
        "print(f\"Number served: {restaurant.number_served}\")\n",
        "restaurant.set_number_served(628)\n",
        "print(f\"Number served: {restaurant.number_served}\")\n",
        "restaurant.increment_number_served(527)\n",
        "print(f\"Number served: {restaurant.number_served}\")\n"
      ]
    },
    {
      "cell_type": "markdown",
      "metadata": {
        "id": "4qe5zUrLF0YQ"
      },
      "source": [
        "## Question 18\n",
        "**Login Attempts:** Add an attribute called login_attempts to your User class from Question 16. Write a method called `increment_login_attempts()` that increments the value of `login_attempts` by 1. Write another method called `reset_login_attempts()` that resets the value of login_attempts to 0.\n",
        "\n",
        "Make an instance of the `User` class and call `increment_login_attempts()` several times. Print the value of `login_attempts` to make sure it was incremented properly, and then call `reset_login_attempts()`. Print `login_attempts` again to make sure it was reset to 0."
      ]
    },
    {
      "cell_type": "code",
      "execution_count": 31,
      "metadata": {
        "id": "rDyUMlOAF0YQ",
        "colab": {
          "base_uri": "https://localhost:8080/"
        },
        "outputId": "6860259e-1ac6-447b-ac52-3350282f066f"
      },
      "outputs": [
        {
          "output_type": "stream",
          "name": "stdout",
          "text": [
            "\n",
            "Ellie Bern\n",
            "  birthday: May\n",
            "  job: Cashier\n",
            "  city: Knox\n",
            "Hello Ellie!\n",
            "Login attempts: 3\n",
            "reset\n",
            "Login attempts: 0\n"
          ]
        }
      ],
      "source": [
        "class User:\n",
        "    def __init__(self, first_name, last_name, birthday, job, city):\n",
        "        self.first_name = first_name\n",
        "        self.last_name = last_name\n",
        "        self.birthday = birthday\n",
        "        self.job = job\n",
        "        self.city = city\n",
        "        self.login_attempts = 0\n",
        "    def describe_user(self):\n",
        "        print(f\"\\n{self.first_name} {self.last_name}\")\n",
        "        print(f\"  birthday: {self.birthday}\")\n",
        "        print(f\"  job: {self.job}\")\n",
        "        print(f\"  city: {self.city}\")\n",
        "    def greet_user(self):\n",
        "        print(f\"Hello {self.first_name}!\")\n",
        "\n",
        "    def increment_login_attempts(self):\n",
        "        self.login_attempts += 1\n",
        "\n",
        "    def reset_login_attempts(self):\n",
        "        self.login_attempts = 0\n",
        "\n",
        "one = User('Ellie', 'Bern', 'May', 'Cashier', 'Knox')\n",
        "one.describe_user()\n",
        "one.greet_user()\n",
        "\n",
        "one.increment_login_attempts()\n",
        "one.increment_login_attempts()\n",
        "one.increment_login_attempts()\n",
        "print(f\"Login attempts: {one.login_attempts}\")\n",
        "print(\"reset\")\n",
        "one.reset_login_attempts()\n",
        "print(f\"Login attempts: {one.login_attempts}\")"
      ]
    },
    {
      "cell_type": "markdown",
      "metadata": {
        "id": "HOO1GvWJF0YQ"
      },
      "source": [
        "## Question 19\n",
        "**Dice:** Make a class `Die` with one attribute called `sides`, which has a default value of 6. Write a method called `roll_die()` that prints a random number between 1 and the number of sides the die has. Make a 6-sided die and roll it 10 times.\n",
        "\n",
        "Make a 10-sided die and a 20-sided die. Roll each die 10 times."
      ]
    },
    {
      "cell_type": "code",
      "execution_count": null,
      "metadata": {
        "id": "_WRi5e_qF0YR"
      },
      "outputs": [],
      "source": [
        "\n"
      ]
    },
    {
      "cell_type": "markdown",
      "metadata": {
        "id": "A20bWQHVF0YR"
      },
      "source": [
        "## Question 20\n",
        "**Lottery:** Make a list or tuple containing a series of 10 numbers and five letters. Randomly select four numbers or letters from the list and print a message saying that any ticket matching these four numbers or letters wins a prize.\n",
        "\n",
        "You can use a loop to see how hard it might be to win the kind of lottery you just modeled. Make a list or tuple called `my_ticket`. Write a loop that keeps pulling numbers until your ticket wins. Print a message reporting how many times the loop had to run to give you a winning ticket."
      ]
    },
    {
      "cell_type": "code",
      "execution_count": 37,
      "metadata": {
        "id": "G6XeolEFF0YR",
        "colab": {
          "base_uri": "https://localhost:8080/"
        },
        "outputId": "fdf1bcb9-4c21-452b-ddd1-c9ea8099ff85"
      },
      "outputs": [
        {
          "output_type": "stream",
          "name": "stdout",
          "text": [
            "winning ticket wins a prize!\n",
            "mine is 8\n",
            "mine is 2\n",
            "mine is a\n",
            "mine is 5\n",
            "wininning ticket: [8, 2, 'a', 5]\n"
          ]
        }
      ],
      "source": []
    }
  ],
  "metadata": {
    "kernelspec": {
      "display_name": "Python 3 (ipykernel)",
      "language": "python",
      "name": "python3"
    },
    "language_info": {
      "codemirror_mode": {
        "name": "ipython",
        "version": 3
      },
      "file_extension": ".py",
      "mimetype": "text/x-python",
      "name": "python",
      "nbconvert_exporter": "python",
      "pygments_lexer": "ipython3",
      "version": "3.8.10"
    },
    "colab": {
      "provenance": []
    }
  },
  "nbformat": 4,
  "nbformat_minor": 0
}